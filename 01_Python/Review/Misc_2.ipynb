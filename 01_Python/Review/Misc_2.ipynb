{
 "cells": [
  {
   "cell_type": "code",
   "execution_count": 13,
   "metadata": {
    "tags": []
   },
   "outputs": [
    {
     "output_type": "stream",
     "name": "stdout",
     "text": "['History', 'Math', 'Physics', 'CompSci']\n4\nHistory\nCompSci\n['History', 'Math']\n['History', 'Math']\n['Physics', 'CompSci']\n"
    }
   ],
   "source": [
    "courses = [\"History\", \"Math\", \"Physics\", \"CompSci\"]\n",
    "\n",
    "print(courses)\n",
    "print(len(courses))\n",
    "print(courses[0])\n",
    "print(courses[-1])\n",
    "print(courses[0:2])\n",
    "print(courses[:2])\n",
    "print(courses[2:])"
   ]
  },
  {
   "cell_type": "code",
   "execution_count": 14,
   "metadata": {
    "tags": []
   },
   "outputs": [
    {
     "output_type": "stream",
     "name": "stdout",
     "text": "['History', 'Math', 'Physics', 'CompSci', 'Art']\n"
    }
   ],
   "source": [
    "courses = [\"History\", \"Math\", \"Physics\", \"CompSci\"]\n",
    "\n",
    "courses.append(\"Art\")\n",
    "print(courses)"
   ]
  },
  {
   "cell_type": "code",
   "execution_count": 15,
   "metadata": {
    "tags": []
   },
   "outputs": [
    {
     "output_type": "stream",
     "name": "stdout",
     "text": "['Art', 'History', 'Math', 'Physics', 'CompSci']\n"
    }
   ],
   "source": [
    "courses = [\"History\", \"Math\", \"Physics\", \"CompSci\"]\n",
    "\n",
    "courses.insert(0, \"Art\")\n",
    "print(courses)"
   ]
  },
  {
   "cell_type": "code",
   "execution_count": 21,
   "metadata": {
    "tags": []
   },
   "outputs": [
    {
     "output_type": "stream",
     "name": "stdout",
     "text": "[['Art', 'Education'], 'History', 'Math', 'Physics', 'CompSci']\nA\n"
    }
   ],
   "source": [
    "courses = [\"History\", \"Math\", \"Physics\", \"CompSci\"]\n",
    "\n",
    "courses_2 = [\"Art\", \"Education\"]\n",
    "\n",
    "courses.insert(0, courses_2)\n",
    "\n",
    "print(courses)\n",
    "print(courses[0][0][0])\n"
   ]
  },
  {
   "cell_type": "code",
   "execution_count": null,
   "metadata": {},
   "outputs": [],
   "source": []
  }
 ],
 "metadata": {
  "language_info": {
   "codemirror_mode": {
    "name": "ipython",
    "version": 3
   },
   "file_extension": ".py",
   "mimetype": "text/x-python",
   "name": "python",
   "nbconvert_exporter": "python",
   "pygments_lexer": "ipython3",
   "version": "3.8.3-final"
  },
  "orig_nbformat": 2,
  "kernelspec": {
   "name": "python38364bit06a34129db144270a87fb8eb3f0a97cb",
   "display_name": "Python 3.8.3 64-bit"
  }
 },
 "nbformat": 4,
 "nbformat_minor": 2
}