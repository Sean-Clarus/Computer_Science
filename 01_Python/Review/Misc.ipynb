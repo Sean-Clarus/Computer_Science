{
 "cells": [
  {
   "cell_type": "code",
   "execution_count": 13,
   "metadata": {
    "tags": []
   },
   "outputs": [
    {
     "output_type": "stream",
     "name": "stdout",
     "text": "['History', 'Math', 'Physics', 'CompSci']\n4\nHistory\nCompSci\n['History', 'Math']\n['History', 'Math']\n['Physics', 'CompSci']\n"
    }
   ],
   "source": [
    "courses = [\"History\", \"Math\", \"Physics\", \"CompSci\"]\n",
    "\n",
    "print(courses)\n",
    "print(len(courses))\n",
    "print(courses[0])\n",
    "print(courses[-1])\n",
    "print(courses[0:2])\n",
    "print(courses[:2])\n",
    "print(courses[2:])"
   ]
  },
  {
   "cell_type": "code",
   "execution_count": 14,
   "metadata": {
    "tags": []
   },
   "outputs": [
    {
     "output_type": "stream",
     "name": "stdout",
     "text": "['History', 'Math', 'Physics', 'CompSci', 'Art']\n"
    }
   ],
   "source": [
    "courses = [\"History\", \"Math\", \"Physics\", \"CompSci\"]\n",
    "\n",
    "courses.append(\"Art\")\n",
    "print(courses)"
   ]
  },
  {
   "cell_type": "code",
   "execution_count": 15,
   "metadata": {
    "tags": []
   },
   "outputs": [
    {
     "output_type": "stream",
     "name": "stdout",
     "text": "['Art', 'History', 'Math', 'Physics', 'CompSci']\n"
    }
   ],
   "source": [
    "courses = [\"History\", \"Math\", \"Physics\", \"CompSci\"]\n",
    "\n",
    "courses.insert(0, \"Art\")\n",
    "print(courses)"
   ]
  },
  {
   "cell_type": "code",
   "execution_count": 21,
   "metadata": {
    "tags": []
   },
   "outputs": [
    {
     "output_type": "stream",
     "name": "stdout",
     "text": "[['Art', 'Education'], 'History', 'Math', 'Physics', 'CompSci']\nA\n"
    }
   ],
   "source": [
    "courses = [\"History\", \"Math\", \"Physics\", \"CompSci\"]\n",
    "\n",
    "courses_2 = [\"Art\", \"Education\"]\n",
    "\n",
    "courses.insert(0, courses_2)\n",
    "\n",
    "print(courses)\n",
    "print(courses[0][0][0])\n"
   ]
  },
  {
   "cell_type": "code",
   "execution_count": 23,
   "metadata": {
    "tags": []
   },
   "outputs": [
    {
     "output_type": "stream",
     "name": "stdout",
     "text": "['History', 'Physics', 'CompSci']\n"
    }
   ],
   "source": [
    "courses = [\"History\", \"Math\", \"Physics\", \"CompSci\"]\n",
    "\n",
    "courses.remove(\"Math\")\n",
    "\n",
    "print(courses)"
   ]
  },
  {
   "cell_type": "code",
   "execution_count": 1,
   "metadata": {
    "tags": []
   },
   "outputs": [
    {
     "output_type": "stream",
     "name": "stdout",
     "text": "['History', 'Math']\nPhysics\n"
    }
   ],
   "source": [
    "courses = [\"History\", \"Math\", \"Physics\", \"CompSci\"]\n",
    "\n",
    "courses.pop()\n",
    "popped = courses.pop()\n",
    "\n",
    "print(courses)\n",
    "print(popped)"
   ]
  },
  {
   "cell_type": "code",
   "execution_count": 27,
   "metadata": {
    "tags": []
   },
   "outputs": [
    {
     "output_type": "stream",
     "name": "stdout",
     "text": "['CompSci', 'Physics', 'Math', 'History']\n"
    }
   ],
   "source": [
    "courses = [\"History\", \"Math\", \"Physics\", \"CompSci\"]\n",
    "\n",
    "courses.reverse()\n",
    "print(courses)"
   ]
  },
  {
   "cell_type": "code",
   "execution_count": 28,
   "metadata": {
    "tags": []
   },
   "outputs": [
    {
     "output_type": "stream",
     "name": "stdout",
     "text": "History\nMath\nPhysics\nCompSci\n"
    }
   ],
   "source": [
    "courses = [\"History\", \"Math\", \"Physics\", \"CompSci\"]\n",
    "\n",
    "for course in courses:\n",
    "    print(course)"
   ]
  },
  {
   "cell_type": "code",
   "execution_count": 29,
   "metadata": {
    "tags": []
   },
   "outputs": [
    {
     "output_type": "stream",
     "name": "stdout",
     "text": "0 History\n1 Math\n2 Physics\n3 CompSci\n"
    }
   ],
   "source": [
    "courses = [\"History\", \"Math\", \"Physics\", \"CompSci\"]\n",
    "\n",
    "for index, course in enumerate(courses):\n",
    "    print(index, course)"
   ]
  },
  {
   "cell_type": "code",
   "execution_count": 30,
   "metadata": {
    "tags": []
   },
   "outputs": [
    {
     "output_type": "stream",
     "name": "stdout",
     "text": "1 History\n2 Math\n3 Physics\n4 CompSci\n"
    }
   ],
   "source": [
    "courses = [\"History\", \"Math\", \"Physics\", \"CompSci\"]\n",
    "\n",
    "for index, course in enumerate(courses, start=1):\n",
    "    print(index, course)"
   ]
  },
  {
   "cell_type": "code",
   "execution_count": 32,
   "metadata": {
    "tags": []
   },
   "outputs": [
    {
     "output_type": "stream",
     "name": "stdout",
     "text": "History - Math - Physics - CompSci\n"
    }
   ],
   "source": [
    "courses = [\"History\", \"Math\", \"Physics\", \"CompSci\"]\n",
    "\n",
    "courses_str = \" - \".join(courses)\n",
    "print(courses_str)"
   ]
  },
  {
   "cell_type": "code",
   "execution_count": 33,
   "metadata": {
    "tags": []
   },
   "outputs": [
    {
     "output_type": "stream",
     "name": "stdout",
     "text": "['History', 'Math', 'Physics', 'CompSci']\n"
    }
   ],
   "source": [
    "courses = [\"History\", \"Math\", \"Physics\", \"CompSci\"]\n",
    "\n",
    "courses_str = \" - \".join(courses)\n",
    "new_list = courses_str.split(\" - \")\n",
    "print(new_list)"
   ]
  },
  {
   "cell_type": "code",
   "execution_count": 35,
   "metadata": {
    "tags": []
   },
   "outputs": [
    {
     "output_type": "stream",
     "name": "stdout",
     "text": "('History', 'Math', 'Physics', 'CompSci')\n('History', 'Math', 'Physics', 'CompSci')\n"
    },
    {
     "output_type": "error",
     "ename": "TypeError",
     "evalue": "'type' object is not subscriptable",
     "traceback": [
      "\u001b[0;31m---------------------------------------------------------------------------\u001b[0m",
      "\u001b[0;31mTypeError\u001b[0m                                 Traceback (most recent call last)",
      "\u001b[0;32m<ipython-input-35-febdced36a6d>\u001b[0m in \u001b[0;36m<module>\u001b[0;34m\u001b[0m\n\u001b[1;32m      5\u001b[0m \u001b[0mprint\u001b[0m\u001b[0;34m(\u001b[0m\u001b[0mtuple_2\u001b[0m\u001b[0;34m)\u001b[0m\u001b[0;34m\u001b[0m\u001b[0;34m\u001b[0m\u001b[0m\n\u001b[1;32m      6\u001b[0m \u001b[0;34m\u001b[0m\u001b[0m\n\u001b[0;32m----> 7\u001b[0;31m \u001b[0mprint\u001b[0m\u001b[0;34m(\u001b[0m\u001b[0mtuple\u001b[0m\u001b[0;34m[\u001b[0m\u001b[0;36m0\u001b[0m\u001b[0;34m]\u001b[0m\u001b[0;34m)\u001b[0m\u001b[0;34m\u001b[0m\u001b[0;34m\u001b[0m\u001b[0m\n\u001b[0m",
      "\u001b[0;31mTypeError\u001b[0m: 'type' object is not subscriptable"
     ]
    }
   ],
   "source": [
    "tuple_1 = (\"History\", \"Math\", \"Physics\", \"CompSci\")\n",
    "tuple_2 = tuple_1\n",
    "\n",
    "print(tuple_1)\n",
    "print(tuple_2)\n",
    "\n",
    "print(tuple[0])\n",
    "\n",
    "# tuples are immutable\n",
    "# tuples are in () (in paranthesis)\n",
    "# lists are in [] [in brackets]\n",
    "# sets are in {} {in curly brackets}\n",
    "# lists and tuples are ordered\n",
    "# sets are unordered\n",
    "# sets contain unique items, no repetation\n"
   ]
  },
  {
   "cell_type": "code",
   "execution_count": 38,
   "metadata": {
    "tags": []
   },
   "outputs": [
    {
     "output_type": "stream",
     "name": "stdout",
     "text": "{'History', 'Math'}\n{'Physics', 'CompSci'}\n{'Physics', 'Art', 'CompSci', 'History', 'Math', 'Design'}\n"
    }
   ],
   "source": [
    "cs_courses = {\"History\", \"Math\", \"Physics\", \"CompSci\"}\n",
    "art_courses = {\"History\", \"Math\", \"Art\", \"Design\"}\n",
    " \n",
    "print(cs_courses.intersection(art_courses))\n",
    "print(cs_courses.difference(art_courses))\n",
    "print(cs_courses.union(art_courses))"
   ]
  },
  {
   "cell_type": "code",
   "execution_count": 40,
   "metadata": {
    "tags": []
   },
   "outputs": [
    {
     "output_type": "stream",
     "name": "stdout",
     "text": "{'name': 'John', 'age': 25, 'courses': ['Math', 'CompSci']}\nJohn\n"
    }
   ],
   "source": [
    "# Dictionaries\n",
    "student = {'name': \"John\", \"age\": 25, \"courses\": [\"Math\", \"CompSci\"]}\n",
    "\n",
    "print(student)\n",
    "print(student[\"name\"])\n",
    "\n"
   ]
  },
  {
   "cell_type": "code",
   "execution_count": 47,
   "metadata": {
    "tags": []
   },
   "outputs": [
    {
     "output_type": "stream",
     "name": "stdout",
     "text": "25\nNot Found\n"
    }
   ],
   "source": [
    "student = {'name': \"John\", \"age\": 25, \"courses\": [\"Math\", \"CompSci\"]}\n",
    " \n",
    "print(student.get(\"age\", \"Not Found\"))\n",
    "print(student.get(\"last_name\", \"Not Found\"))"
   ]
  },
  {
   "cell_type": "code",
   "execution_count": 48,
   "metadata": {
    "tags": []
   },
   "outputs": [
    {
     "output_type": "stream",
     "name": "stdout",
     "text": "{'name': 'Jane', 'age': 25, 'courses': ['Math', 'CompSci']}\n"
    }
   ],
   "source": [
    "student = {'name': \"John\", \"age\": 25, \"courses\": [\"Math\", \"CompSci\"]}\n",
    " \n",
    "student[\"name\"] = \"Jane\"\n",
    " \n",
    "print(student)"
   ]
  },
  {
   "cell_type": "code",
   "execution_count": 50,
   "metadata": {
    "tags": []
   },
   "outputs": [
    {
     "output_type": "stream",
     "name": "stdout",
     "text": "{'name': 'Jane', 'age': 26, 'courses': ['Math', 'CompSci'], 'phone': '555-555-5555'}\n"
    }
   ],
   "source": [
    "student = {'name': \"John\", \"age\": 25, \"courses\": [\"Math\", \"CompSci\"]}\n",
    "\n",
    "student.update({'name': \"Jane\", \"age\": 26, \"phone\": \"555-555-5555\"})\n",
    "\n",
    "print(student)"
   ]
  },
  {
   "cell_type": "code",
   "execution_count": 51,
   "metadata": {
    "tags": []
   },
   "outputs": [
    {
     "output_type": "stream",
     "name": "stdout",
     "text": "{'name': 'John', 'courses': ['Math', 'CompSci']}\n"
    }
   ],
   "source": [
    "student = {'name': \"John\", \"age\": 25, \"courses\": [\"Math\", \"CompSci\"]}\n",
    " \n",
    "del student[\"age\"]\n",
    " \n",
    "print(student)"
   ]
  },
  {
   "cell_type": "code",
   "execution_count": 52,
   "metadata": {
    "tags": []
   },
   "outputs": [
    {
     "output_type": "stream",
     "name": "stdout",
     "text": "{'name': 'John', 'courses': ['Math', 'CompSci']}\n25\n"
    }
   ],
   "source": [
    "student = {'name': \"John\", \"age\": 25, \"courses\": [\"Math\", \"CompSci\"]}\n",
    " \n",
    "age = student.pop(\"age\")\n",
    " \n",
    "print(student)\n",
    "print(age)"
   ]
  },
  {
   "cell_type": "code",
   "execution_count": 53,
   "metadata": {
    "tags": []
   },
   "outputs": [
    {
     "output_type": "stream",
     "name": "stdout",
     "text": "dict_keys(['name', 'age', 'courses'])\ndict_values(['John', 25, ['Math', 'CompSci']])\ndict_items([('name', 'John'), ('age', 25), ('courses', ['Math', 'CompSci'])])\n"
    }
   ],
   "source": [
    "student = {'name': \"John\", \"age\": 25, \"courses\": [\"Math\", \"CompSci\"]}\n",
    " \n",
    "print(student.keys())\n",
    "print(student.values())\n",
    "print(student.items())"
   ]
  },
  {
   "cell_type": "code",
   "execution_count": 54,
   "metadata": {
    "tags": []
   },
   "outputs": [
    {
     "output_type": "stream",
     "name": "stdout",
     "text": "name\nage\ncourses\n"
    }
   ],
   "source": [
    "student = {'name': \"John\", \"age\": 25, \"courses\": [\"Math\", \"CompSci\"]}\n",
    " \n",
    "for key in student:\n",
    " print(key)"
   ]
  },
  {
   "cell_type": "code",
   "execution_count": 55,
   "metadata": {
    "tags": []
   },
   "outputs": [
    {
     "output_type": "stream",
     "name": "stdout",
     "text": "name John\nage 25\ncourses ['Math', 'CompSci']\n"
    }
   ],
   "source": [
    "student = {'name': \"John\", \"age\": 25, \"courses\": [\"Math\", \"CompSci\"]}\n",
    " \n",
    "for key, value in student.items():\n",
    " print(key, value)"
   ]
  },
  {
   "cell_type": "code",
   "execution_count": null,
   "metadata": {},
   "outputs": [],
   "source": []
  }
 ],
 "metadata": {
  "language_info": {
   "codemirror_mode": {
    "name": "ipython",
    "version": 3
   },
   "file_extension": ".py",
   "mimetype": "text/x-python",
   "name": "python",
   "nbconvert_exporter": "python",
   "pygments_lexer": "ipython3",
   "version": "3.8.3-final"
  },
  "orig_nbformat": 2,
  "kernelspec": {
   "name": "python38364bit06a34129db144270a87fb8eb3f0a97cb",
   "display_name": "Python 3.8.3 64-bit"
  }
 },
 "nbformat": 4,
 "nbformat_minor": 2
}