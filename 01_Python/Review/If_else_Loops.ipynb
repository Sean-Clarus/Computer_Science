{
 "cells": [
  {
   "cell_type": "code",
   "execution_count": 7,
   "metadata": {
    "tags": []
   },
   "outputs": [
    {
     "output_type": "stream",
     "name": "stdout",
     "text": "Sleep in!\n"
    }
   ],
   "source": [
    "weekday = False\n",
    "vacation = False\n",
    "if weekday == False or vacation == True:\n",
    "    print(\"Sleep in!\")\n",
    "else:\n",
    "    print(\"Go to work!!!\")"
   ]
  },
  {
   "cell_type": "code",
   "execution_count": 8,
   "metadata": {
    "tags": []
   },
   "outputs": [
    {
     "output_type": "stream",
     "name": "stdout",
     "text": "Go to work!!!\n"
    }
   ],
   "source": [
    "weekday = True\n",
    "vacation = False\n",
    "if weekday == False or vacation == True:\n",
    "    print(\"Sleep in!\")\n",
    "else:\n",
    "    print(\"Go to work!!!\")"
   ]
  },
  {
   "cell_type": "code",
   "execution_count": 5,
   "metadata": {
    "tags": []
   },
   "outputs": [
    {
     "output_type": "stream",
     "name": "stdout",
     "text": "Admin Page\nBad Creds\nPlease log in\n"
    }
   ],
   "source": [
    "user = \"Admin\"\n",
    "logged_in = True\n",
    "\n",
    "if user == \"Admin\" and logged_in:\n",
    "    print(\"Admin Page\")\n",
    "else:\n",
    "    print(\"Bad Creds\")\n",
    "\n",
    "user = \"Admin\"\n",
    "logged_in = False\n",
    "if user == \"Admin\" and logged_in:\n",
    "    print(\"Admin Page\")\n",
    "else:\n",
    "    print(\"Bad Creds\")\n",
    "\n",
    "user = \"Admin\"\n",
    "logged_in = True\n",
    "if not logged_in:\n",
    "    print(\"Please log in\")\n",
    "else:\n",
    "    print(\"Welcome\")"
   ]
  },
  {
   "cell_type": "code",
   "execution_count": null,
   "metadata": {},
   "outputs": [],
   "source": []
  }
 ],
 "metadata": {
  "language_info": {
   "codemirror_mode": {
    "name": "ipython",
    "version": 3
   },
   "file_extension": ".py",
   "mimetype": "text/x-python",
   "name": "python",
   "nbconvert_exporter": "python",
   "pygments_lexer": "ipython3",
   "version": "3.8.3-final"
  },
  "orig_nbformat": 2,
  "kernelspec": {
   "name": "python38364bit06a34129db144270a87fb8eb3f0a97cb",
   "display_name": "Python 3.8.3 64-bit"
  }
 },
 "nbformat": 4,
 "nbformat_minor": 2
}